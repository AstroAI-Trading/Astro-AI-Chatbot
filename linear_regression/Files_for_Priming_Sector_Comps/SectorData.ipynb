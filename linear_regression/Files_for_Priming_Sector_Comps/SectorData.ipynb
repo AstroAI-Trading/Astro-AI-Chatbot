{
 "cells": [
  {
   "cell_type": "code",
   "execution_count": 18,
   "metadata": {},
   "outputs": [],
   "source": [
    "#Get it down to annual return table\n",
    "\n",
    "import pandas as pd\n",
    "def get_return_table():\n",
    "    df = pd.read_excel('/Users/evan/Desktop/histretSP.xls', sheet_name='Returns by year', header= None)\n",
    "    return_table = df.iloc[17:114, :7]\n",
    "    return_table.reset_index(drop=True, inplace=True)\n",
    "    return return_table\n",
    "\n",
    "df = get_return_table()\n",
    "df.to_excel('returntable.xlsx')"
   ]
  },
  {
   "cell_type": "code",
   "execution_count": 20,
   "metadata": {},
   "outputs": [
    {
     "ename": "FileNotFoundError",
     "evalue": "[Errno 2] No such file or directory: '/mnt/data/returntable.xlsx'",
     "output_type": "error",
     "traceback": [
      "\u001b[0;31m---------------------------------------------------------------------------\u001b[0m",
      "\u001b[0;31mFileNotFoundError\u001b[0m                         Traceback (most recent call last)",
      "\u001b[1;32m/Users/evan/Desktop/chatbot/Regression Testing/venv/bin/MergeManipulationsFMP/Components/SectorData.ipynb Cell 2\u001b[0m line \u001b[0;36m3\n\u001b[1;32m     <a href='vscode-notebook-cell:/Users/evan/Desktop/chatbot/Regression%20Testing/venv/bin/MergeManipulationsFMP/Components/SectorData.ipynb#W3sZmlsZQ%3D%3D?line=27'>28</a>\u001b[0m     \u001b[39mreturn\u001b[39;00m output_file_path\n\u001b[1;32m     <a href='vscode-notebook-cell:/Users/evan/Desktop/chatbot/Regression%20Testing/venv/bin/MergeManipulationsFMP/Components/SectorData.ipynb#W3sZmlsZQ%3D%3D?line=29'>30</a>\u001b[0m \u001b[39m# Call the function with the path to the uploaded file\u001b[39;00m\n\u001b[0;32m---> <a href='vscode-notebook-cell:/Users/evan/Desktop/chatbot/Regression%20Testing/venv/bin/MergeManipulationsFMP/Components/SectorData.ipynb#W3sZmlsZQ%3D%3D?line=30'>31</a>\u001b[0m output_file \u001b[39m=\u001b[39m process_dataframe(\u001b[39m'\u001b[39;49m\u001b[39m/mnt/data/returntable.xlsx\u001b[39;49m\u001b[39m'\u001b[39;49m)\n\u001b[1;32m     <a href='vscode-notebook-cell:/Users/evan/Desktop/chatbot/Regression%20Testing/venv/bin/MergeManipulationsFMP/Components/SectorData.ipynb#W3sZmlsZQ%3D%3D?line=33'>34</a>\u001b[0m \u001b[39mprint\u001b[39m(process_dataframe(\u001b[39m'\u001b[39m\u001b[39mreturntable.xlsx\u001b[39m\u001b[39m'\u001b[39m))\n",
      "\u001b[1;32m/Users/evan/Desktop/chatbot/Regression Testing/venv/bin/MergeManipulationsFMP/Components/SectorData.ipynb Cell 2\u001b[0m line \u001b[0;36m1\n\u001b[1;32m     <a href='vscode-notebook-cell:/Users/evan/Desktop/chatbot/Regression%20Testing/venv/bin/MergeManipulationsFMP/Components/SectorData.ipynb#W3sZmlsZQ%3D%3D?line=11'>12</a>\u001b[0m \u001b[39mdef\u001b[39;00m \u001b[39mprocess_dataframe\u001b[39m(file_path):\n\u001b[1;32m     <a href='vscode-notebook-cell:/Users/evan/Desktop/chatbot/Regression%20Testing/venv/bin/MergeManipulationsFMP/Components/SectorData.ipynb#W3sZmlsZQ%3D%3D?line=12'>13</a>\u001b[0m     \u001b[39m# Read the Excel file\u001b[39;00m\n\u001b[0;32m---> <a href='vscode-notebook-cell:/Users/evan/Desktop/chatbot/Regression%20Testing/venv/bin/MergeManipulationsFMP/Components/SectorData.ipynb#W3sZmlsZQ%3D%3D?line=13'>14</a>\u001b[0m     df \u001b[39m=\u001b[39m pd\u001b[39m.\u001b[39;49mread_excel(file_path)\n\u001b[1;32m     <a href='vscode-notebook-cell:/Users/evan/Desktop/chatbot/Regression%20Testing/venv/bin/MergeManipulationsFMP/Components/SectorData.ipynb#W3sZmlsZQ%3D%3D?line=15'>16</a>\u001b[0m     \u001b[39m# Check if the second column contains the year\u001b[39;00m\n\u001b[1;32m     <a href='vscode-notebook-cell:/Users/evan/Desktop/chatbot/Regression%20Testing/venv/bin/MergeManipulationsFMP/Components/SectorData.ipynb#W3sZmlsZQ%3D%3D?line=16'>17</a>\u001b[0m     \u001b[39m# and apply the format_year function to each year value\u001b[39;00m\n\u001b[1;32m     <a href='vscode-notebook-cell:/Users/evan/Desktop/chatbot/Regression%20Testing/venv/bin/MergeManipulationsFMP/Components/SectorData.ipynb#W3sZmlsZQ%3D%3D?line=17'>18</a>\u001b[0m     \u001b[39mif\u001b[39;00m \u001b[39m'\u001b[39m\u001b[39mYear\u001b[39m\u001b[39m'\u001b[39m \u001b[39min\u001b[39;00m df\u001b[39m.\u001b[39mcolumns:\n",
      "File \u001b[0;32m~/Desktop/chatbot/Regression Testing/venv/lib/python3.11/site-packages/pandas/io/excel/_base.py:504\u001b[0m, in \u001b[0;36mread_excel\u001b[0;34m(io, sheet_name, header, names, index_col, usecols, dtype, engine, converters, true_values, false_values, skiprows, nrows, na_values, keep_default_na, na_filter, verbose, parse_dates, date_parser, date_format, thousands, decimal, comment, skipfooter, storage_options, dtype_backend, engine_kwargs)\u001b[0m\n\u001b[1;32m    502\u001b[0m \u001b[39mif\u001b[39;00m \u001b[39mnot\u001b[39;00m \u001b[39misinstance\u001b[39m(io, ExcelFile):\n\u001b[1;32m    503\u001b[0m     should_close \u001b[39m=\u001b[39m \u001b[39mTrue\u001b[39;00m\n\u001b[0;32m--> 504\u001b[0m     io \u001b[39m=\u001b[39m ExcelFile(\n\u001b[1;32m    505\u001b[0m         io,\n\u001b[1;32m    506\u001b[0m         storage_options\u001b[39m=\u001b[39;49mstorage_options,\n\u001b[1;32m    507\u001b[0m         engine\u001b[39m=\u001b[39;49mengine,\n\u001b[1;32m    508\u001b[0m         engine_kwargs\u001b[39m=\u001b[39;49mengine_kwargs,\n\u001b[1;32m    509\u001b[0m     )\n\u001b[1;32m    510\u001b[0m \u001b[39melif\u001b[39;00m engine \u001b[39mand\u001b[39;00m engine \u001b[39m!=\u001b[39m io\u001b[39m.\u001b[39mengine:\n\u001b[1;32m    511\u001b[0m     \u001b[39mraise\u001b[39;00m \u001b[39mValueError\u001b[39;00m(\n\u001b[1;32m    512\u001b[0m         \u001b[39m\"\u001b[39m\u001b[39mEngine should not be specified when passing \u001b[39m\u001b[39m\"\u001b[39m\n\u001b[1;32m    513\u001b[0m         \u001b[39m\"\u001b[39m\u001b[39man ExcelFile - ExcelFile already has the engine set\u001b[39m\u001b[39m\"\u001b[39m\n\u001b[1;32m    514\u001b[0m     )\n",
      "File \u001b[0;32m~/Desktop/chatbot/Regression Testing/venv/lib/python3.11/site-packages/pandas/io/excel/_base.py:1563\u001b[0m, in \u001b[0;36mExcelFile.__init__\u001b[0;34m(self, path_or_buffer, engine, storage_options, engine_kwargs)\u001b[0m\n\u001b[1;32m   1561\u001b[0m     ext \u001b[39m=\u001b[39m \u001b[39m\"\u001b[39m\u001b[39mxls\u001b[39m\u001b[39m\"\u001b[39m\n\u001b[1;32m   1562\u001b[0m \u001b[39melse\u001b[39;00m:\n\u001b[0;32m-> 1563\u001b[0m     ext \u001b[39m=\u001b[39m inspect_excel_format(\n\u001b[1;32m   1564\u001b[0m         content_or_path\u001b[39m=\u001b[39;49mpath_or_buffer, storage_options\u001b[39m=\u001b[39;49mstorage_options\n\u001b[1;32m   1565\u001b[0m     )\n\u001b[1;32m   1566\u001b[0m     \u001b[39mif\u001b[39;00m ext \u001b[39mis\u001b[39;00m \u001b[39mNone\u001b[39;00m:\n\u001b[1;32m   1567\u001b[0m         \u001b[39mraise\u001b[39;00m \u001b[39mValueError\u001b[39;00m(\n\u001b[1;32m   1568\u001b[0m             \u001b[39m\"\u001b[39m\u001b[39mExcel file format cannot be determined, you must specify \u001b[39m\u001b[39m\"\u001b[39m\n\u001b[1;32m   1569\u001b[0m             \u001b[39m\"\u001b[39m\u001b[39man engine manually.\u001b[39m\u001b[39m\"\u001b[39m\n\u001b[1;32m   1570\u001b[0m         )\n",
      "File \u001b[0;32m~/Desktop/chatbot/Regression Testing/venv/lib/python3.11/site-packages/pandas/io/excel/_base.py:1419\u001b[0m, in \u001b[0;36minspect_excel_format\u001b[0;34m(content_or_path, storage_options)\u001b[0m\n\u001b[1;32m   1416\u001b[0m \u001b[39mif\u001b[39;00m \u001b[39misinstance\u001b[39m(content_or_path, \u001b[39mbytes\u001b[39m):\n\u001b[1;32m   1417\u001b[0m     content_or_path \u001b[39m=\u001b[39m BytesIO(content_or_path)\n\u001b[0;32m-> 1419\u001b[0m \u001b[39mwith\u001b[39;00m get_handle(\n\u001b[1;32m   1420\u001b[0m     content_or_path, \u001b[39m\"\u001b[39;49m\u001b[39mrb\u001b[39;49m\u001b[39m\"\u001b[39;49m, storage_options\u001b[39m=\u001b[39;49mstorage_options, is_text\u001b[39m=\u001b[39;49m\u001b[39mFalse\u001b[39;49;00m\n\u001b[1;32m   1421\u001b[0m ) \u001b[39mas\u001b[39;00m handle:\n\u001b[1;32m   1422\u001b[0m     stream \u001b[39m=\u001b[39m handle\u001b[39m.\u001b[39mhandle\n\u001b[1;32m   1423\u001b[0m     stream\u001b[39m.\u001b[39mseek(\u001b[39m0\u001b[39m)\n",
      "File \u001b[0;32m~/Desktop/chatbot/Regression Testing/venv/lib/python3.11/site-packages/pandas/io/common.py:872\u001b[0m, in \u001b[0;36mget_handle\u001b[0;34m(path_or_buf, mode, encoding, compression, memory_map, is_text, errors, storage_options)\u001b[0m\n\u001b[1;32m    863\u001b[0m         handle \u001b[39m=\u001b[39m \u001b[39mopen\u001b[39m(\n\u001b[1;32m    864\u001b[0m             handle,\n\u001b[1;32m    865\u001b[0m             ioargs\u001b[39m.\u001b[39mmode,\n\u001b[0;32m   (...)\u001b[0m\n\u001b[1;32m    868\u001b[0m             newline\u001b[39m=\u001b[39m\u001b[39m\"\u001b[39m\u001b[39m\"\u001b[39m,\n\u001b[1;32m    869\u001b[0m         )\n\u001b[1;32m    870\u001b[0m     \u001b[39melse\u001b[39;00m:\n\u001b[1;32m    871\u001b[0m         \u001b[39m# Binary mode\u001b[39;00m\n\u001b[0;32m--> 872\u001b[0m         handle \u001b[39m=\u001b[39m \u001b[39mopen\u001b[39m(handle, ioargs\u001b[39m.\u001b[39mmode)\n\u001b[1;32m    873\u001b[0m     handles\u001b[39m.\u001b[39mappend(handle)\n\u001b[1;32m    875\u001b[0m \u001b[39m# Convert BytesIO or file objects passed with an encoding\u001b[39;00m\n",
      "\u001b[0;31mFileNotFoundError\u001b[0m: [Errno 2] No such file or directory: '/mnt/data/returntable.xlsx'"
     ]
    }
   ],
   "source": [
    "import pandas as pd\n",
    "\n",
    "# Function to format the year column as requested\n",
    "def format_year(year):\n",
    "    try:\n",
    "        previous_year = int(year) - 1\n",
    "        return f\"{previous_year} - {year} YOY Growth\"\n",
    "    except ValueError:\n",
    "        return year\n",
    "\n",
    "# Function to process the DataFrame and rename the year values\n",
    "def process_dataframe(file_path):\n",
    "    # Read the Excel file\n",
    "    df = pd.read_excel(file_path)\n",
    "    \n",
    "    # Check if the second column contains the year\n",
    "    # and apply the format_year function to each year value\n",
    "    if 'Year' in df.columns:\n",
    "        df['Year'] = df['Year'].apply(format_year)\n",
    "    else:\n",
    "        # If 'Year' is not a column name, assume it's the second column\n",
    "        df.iloc[:, 1] = df.iloc[:, 1].apply(format_year)\n",
    "    \n",
    "    # Save the modified DataFrame to a new Excel file\n",
    "    output_file_path = '/mnt/data/modified_returntable.xlsx'\n",
    "    df.to_excel(output_file_path, index=False)\n",
    "    \n",
    "    return output_file_path\n",
    "\n",
    "# Call the function with the path to the uploaded file\n",
    "output_file = process_dataframe('/mnt/data/returntable.xlsx')\n",
    "\n",
    "\n",
    "print(process_dataframe('returntable.xlsx'))\n"
   ]
  },
  {
   "cell_type": "code",
   "execution_count": 10,
   "metadata": {},
   "outputs": [
    {
     "name": "stdout",
     "output_type": "stream",
     "text": [
      "       0                             1\n",
      "0   Year  S&P 500 (includes dividends)\n",
      "1   1928                      0.438112\n",
      "2   1929                     -0.082979\n",
      "3   1930                     -0.251236\n",
      "4   1931                     -0.438375\n",
      "..   ...                           ...\n",
      "92  2019                      0.312117\n",
      "93  2020                      0.180232\n",
      "94  2021                      0.284689\n",
      "95  2022                      -0.18009\n",
      "96   NaN                           NaN\n",
      "\n",
      "[97 rows x 2 columns]\n"
     ]
    }
   ],
   "source": [
    "#Split Up Stuff WORKING\n",
    "import pandas as pd\n",
    "def get_return_table():\n",
    "    df = pd.read_excel('/Users/evan/Desktop/histretSP.xls', sheet_name='Returns by year', header= None)\n",
    "    return_table = df.iloc[17:114]\n",
    "    return_table.reset_index(drop=True, inplace=True)\n",
    "    return return_table\n",
    "\n",
    "\n",
    "df = get_return_table()\n",
    "\n",
    "\n",
    "\n",
    "dfSP = df[[0, 1]]  #S&P returns\n",
    "df3MT = df[[0,2]]    #3-month T.Bill\n",
    "dfUST = df[[0,4]]    #US T. Bond\n",
    "dfBaa = df[[0,5]]   #  Baa Corporate Bond\n",
    "dfRE = df[[0,6]]   # Real Estate\n",
    "dfG = df[[0,7]]      #Gold*\n",
    "print(dfSP)\n",
    "\n",
    "\n"
   ]
  },
  {
   "cell_type": "code",
   "execution_count": 13,
   "metadata": {},
   "outputs": [
    {
     "ename": "NameError",
     "evalue": "name 'extracted_text' is not defined",
     "output_type": "error",
     "traceback": [
      "\u001b[0;31m---------------------------------------------------------------------------\u001b[0m",
      "\u001b[0;31mNameError\u001b[0m                                 Traceback (most recent call last)",
      "\u001b[1;32m/Users/evan/Desktop/chatbot/Regression Testing/venv/bin/MergeManipulationsFMP/Components/SectorData.ipynb Cell 3\u001b[0m line \u001b[0;36m3\n\u001b[1;32m     <a href='vscode-notebook-cell:/Users/evan/Desktop/chatbot/Regression%20Testing/venv/bin/MergeManipulationsFMP/Components/SectorData.ipynb#W2sZmlsZQ%3D%3D?line=26'>27</a>\u001b[0m yoy_growth_data \u001b[39m=\u001b[39m []\n\u001b[1;32m     <a href='vscode-notebook-cell:/Users/evan/Desktop/chatbot/Regression%20Testing/venv/bin/MergeManipulationsFMP/Components/SectorData.ipynb#W2sZmlsZQ%3D%3D?line=28'>29</a>\u001b[0m \u001b[39m# Split the text into lines\u001b[39;00m\n\u001b[0;32m---> <a href='vscode-notebook-cell:/Users/evan/Desktop/chatbot/Regression%20Testing/venv/bin/MergeManipulationsFMP/Components/SectorData.ipynb#W2sZmlsZQ%3D%3D?line=29'>30</a>\u001b[0m lines \u001b[39m=\u001b[39m extracted_text\u001b[39m.\u001b[39mstrip()\u001b[39m.\u001b[39msplit(\u001b[39m\"\u001b[39m\u001b[39m\\n\u001b[39;00m\u001b[39m\"\u001b[39m)\n\u001b[1;32m     <a href='vscode-notebook-cell:/Users/evan/Desktop/chatbot/Regression%20Testing/venv/bin/MergeManipulationsFMP/Components/SectorData.ipynb#W2sZmlsZQ%3D%3D?line=31'>32</a>\u001b[0m \u001b[39m# Loop over each line to extract the YOY Growth columns\u001b[39;00m\n\u001b[1;32m     <a href='vscode-notebook-cell:/Users/evan/Desktop/chatbot/Regression%20Testing/venv/bin/MergeManipulationsFMP/Components/SectorData.ipynb#W2sZmlsZQ%3D%3D?line=32'>33</a>\u001b[0m \u001b[39mfor\u001b[39;00m line \u001b[39min\u001b[39;00m lines:\n\u001b[1;32m     <a href='vscode-notebook-cell:/Users/evan/Desktop/chatbot/Regression%20Testing/venv/bin/MergeManipulationsFMP/Components/SectorData.ipynb#W2sZmlsZQ%3D%3D?line=33'>34</a>\u001b[0m     \u001b[39m# Split the line into columns\u001b[39;00m\n",
      "\u001b[0;31mNameError\u001b[0m: name 'extracted_text' is not defined"
     ]
    }
   ],
   "source": [
    "import pandas as pd\n",
    "def get_return_table():\n",
    "    df = pd.read_excel('/Users/evan/Desktop/histretSP.xls', sheet_name='Returns by year', header= None)\n",
    "    return_table = df.iloc[17:114]\n",
    "    return_table.reset_index(drop=True, inplace=True)\n",
    "    return return_table\n",
    "\n",
    "\n",
    "df = get_return_table()\n",
    "\n",
    "\n",
    "\n",
    "dfSP = df[[0, 1]]  #S&P returns\n",
    "df3MT = df[[0,2]]    #3-month T.Bill\n",
    "dfUST = df[[0,4]]    #US T. Bond\n",
    "dfBaa = df[[0,5]]   #  Baa Corporate Bond\n",
    "dfRE = df[[0,6]]   # Real Estate\n",
    "dfG = df[[0,7]]      #Gold*\n",
    "\n",
    "\n",
    "dfGrowth = pd.read_excel('output_file_with_growth10.xlsx')\n",
    "\n"
   ]
  }
 ],
 "metadata": {
  "kernelspec": {
   "display_name": "venv",
   "language": "python",
   "name": "python3"
  },
  "language_info": {
   "codemirror_mode": {
    "name": "ipython",
    "version": 3
   },
   "file_extension": ".py",
   "mimetype": "text/x-python",
   "name": "python",
   "nbconvert_exporter": "python",
   "pygments_lexer": "ipython3",
   "version": "3.11.4"
  }
 },
 "nbformat": 4,
 "nbformat_minor": 2
}
