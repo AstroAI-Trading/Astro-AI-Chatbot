{
  "cells": [
    {
      "cell_type": "code",
      "execution_count": null,
      "metadata": {},
      "outputs": [],
      "source": [
        "import sys\n",
        "print(sys.executable)"
      ]
    },
    {
      "cell_type": "code",
      "execution_count": null,
      "metadata": {
        "id": "VrggscCpf-Cz"
      },
      "outputs": [],
      "source": [
        "import quandl\n",
        "import pandas_datareader as pdr\n",
        "\n",
        "import pandas as pd\n",
        "import yfinance as yf\n",
        "import numpy as np\n",
        "\n",
        "from datetime import datetime,date\n",
        "\n",
        "import matplotlib.pyplot as plt\n",
        "import matplotlib.ticker as mtick\n",
        "\n",
        "import copy"
      ]
    },
    {
      "cell_type": "code",
      "execution_count": null,
      "metadata": {
        "id": "vNaEKkXcgcJH"
      },
      "outputs": [],
      "source": [
        "from tqdm import tqdm"
      ]
    },
    {
      "cell_type": "code",
      "execution_count": null,
      "metadata": {
        "id": "IGluBtdDgUuf"
      },
      "outputs": [],
      "source": [
        "# Detailed info on each indicator check on web: https://fred.stlouisfed.org/series/<indicator_name>\n",
        "# DOC with the metrics and external exploratory Colab: https://docs.google.com/document/d/1Cf4C3Xz4_yitlzPaLEknHoDlw7KMXey4c49kZ7ucQEE/edit?usp=sharing\n",
        "\n",
        "FRED_INDICATORS = ['GDP', 'GDPC1', 'GDPPOT', 'NYGDPMKTPCDWLD',         # 1. Growth\n",
        "                   'CPIAUCSL', 'CPILFESL', 'GDPDEF',                   # 2. Prices and Inflation\n",
        "                   'M1SL', 'WM1NS', 'WM2NS', 'M1V', 'M2V', 'WALCL',    # 3. Money Supply\n",
        "                   'DFF', 'DTB3', 'DGS5', 'DGS10', 'DGS30', 'T5YIE',   # 4. Interest Rates\n",
        "                   'T10YIE', 'T5YIFR', 'TEDRATE', 'DPRIME',            # 4. Interest Rates\n",
        "                   'UNRATE', 'NROU', 'CIVPART', 'EMRATIO',             # 5. Employment\n",
        "                   'UNEMPLOY', 'PAYEMS', 'MANEMP', 'ICSA', 'IC4WSA',   # 5. Employment\n",
        "                   'CDSP', 'MDSP', 'FODSP', 'DSPIC96', 'PCE', 'PCEDG', # 6. Income and Expenditure\n",
        "                   'PSAVERT', 'DSPI', 'RSXFS',                         # 6. Income and Expenditure\n",
        "                   'INDPRO', 'TCU', 'HOUST', 'GPDI', 'CP', 'STLFSI2',  # 7. Other indicators\n",
        "                   'DCOILWTICO', 'DTWEXAFEGS', 'DTWEXBGS',             # 7. Other indicators\n",
        "                   'GFDEBTN', 'GFDEGDQ188S',                           # 8. Gov-t debt\n",
        "                   # 9. Additional indicators from IVAN\n",
        "                   'DEXUSEU', 'GVZCLS', 'VIXCLS', 'DIVIDEND',\n",
        "                   # 9. Additional indicators from IVAN\n",
        "                   'MORTGAGE30US', 'SPCS20RSA'\n",
        "                   ]\n",
        "\n",
        "# Macro Indicators from QUANDL\n",
        "QUANDL_INDICATORS = {'BCHAIN/MKPRU', 'USTREASURY/YIELD', 'USTREASURY/REALYIELD',  # 9. Additional indicators from IVAN\n",
        "                     # 9. Additional indicators from IVAN\n",
        "                     'MULTPL/SHILLER_PE_RATIO_MONTH', 'LBMA/GOLD'\n",
        "                     }\n",
        "\n",
        "# Stock maret indexes\n",
        "  # All indexes: https://stooq.com/t/ \n",
        "STOOQ_INDICATORS = {'^DJI','^SPX'}  \n",
        "\n",
        "# update period for each ind (Y=Yearly, Q=Quarterly, M=Monthly, W=Weekly, D=Daily)\n",
        "INDICATORS_PERIODS = {'GDP': 'Q', 'GDPC1': 'Q', 'GDPPOT': 'Q', 'NYGDPMKTPCDWLD': 'Y',                 # 1. Growth\n",
        "                      # 2. Prices and Inflation\n",
        "                      'CPIAUCSL': 'M', 'CPILFESL': 'M', 'GDPDEF': 'Q',\n",
        "                      # 3. Money Supply\n",
        "                      'M1SL': 'M', 'WM1NS': 'W', 'WM2NS': 'W', 'M1V': 'Q', 'M2V': 'Q', 'WALCL': 'W',\n",
        "                      # 4. Interest Rates\n",
        "                      'DFF': 'D', 'DTB3': 'D', 'DGS5': 'D', 'DGS10': 'D', 'DGS30': 'D', 'T5YIE': 'D',\n",
        "                      # 4. Interest Rates\n",
        "                      'T10YIE': 'D', 'T5YIFR': 'D', 'TEDRATE': 'D', 'DPRIME': 'D',\n",
        "                      # 5. Employment\n",
        "                      'UNRATE': 'M', 'NROU': 'Q', 'CIVPART': 'M', 'EMRATIO': 'M',\n",
        "                      # 5. Employment\n",
        "                      'UNEMPLOY': 'M', 'PAYEMS': 'M', 'MANEMP': 'M', 'ICSA': 'W', 'IC4WSA': 'W',\n",
        "                      # 6. Income and Expenditure\n",
        "                      'CDSP': 'Q', 'MDSP': 'Q', 'FODSP': 'Q', 'DSPIC96': 'M', 'PCE': 'M', 'PCEDG': 'M',\n",
        "                      # 6. Income and Expenditure\n",
        "                      'PSAVERT': 'M', 'DSPI': 'M', 'RSXFS': 'M',\n",
        "                      # 7. Other indicators\n",
        "                      'INDPRO': 'M', 'TCU': 'M', 'HOUST': 'M', 'GPDI': 'Q', 'CP': 'Q', 'STLFSI2': 'W',\n",
        "                      # 7. Other indicators\n",
        "                      'DCOILWTICO': 'D', 'DTWEXAFEGS': 'D', 'DTWEXBGS': 'D',\n",
        "                      # 8. Gov-t debt\n",
        "                      'GFDEBTN': 'Q', 'GFDEGDQ188S': 'Q',\n",
        "                      # 9. FRED: Additional indicators from IVAN\n",
        "                      'DEXUSEU': 'D', 'GVZCLS': 'D', 'VIXCLS': 'D', 'DIVIDEND': 'Q',\n",
        "                      # 9. FRED: Additional indicators from IVAN\n",
        "                      'MORTGAGE30US': 'W', 'SPCS20RSA': 'M',\n",
        "                      # 9.QUANDL: Additional indicators from IVAN\n",
        "                      'BCHAIN_MKPRU': 'D', 'USTREASURY_YIELD': 'D', 'USTREASURY_REALYIELD': 'D',\n",
        "                      'MULTPL_SHILLER_PE_RATIO_MONTH': 'M', 'LBMA_GOLD': 'D',\n",
        "                      # 10. INDEXES\n",
        "                      'SPX': 'D', 'DJI': 'D'\n",
        "                      }"
      ]
    },
    {
      "cell_type": "code",
      "execution_count": null,
      "metadata": {
        "colab": {
          "base_uri": "https://localhost:8080/"
        },
        "id": "JTdrGZ1Jggbo",
        "outputId": "8f6a78bf-519d-4c42-f979-49b71ffb370b"
      },
      "outputs": [],
      "source": [
        "end = date.today()\n",
        "start = date(year=end.year-35, month=end.month, day=end.day)\n",
        "macro_indicators = dict()\n",
        "tq_fred = tqdm(FRED_INDICATORS)\n",
        "\n",
        "# get the stats from FRED database (with Pandas Datareader API)\n",
        "tq_fred.set_description('Downloading stats from FRED:')\n",
        "for indicator in tq_fred:\n",
        "  # tq_fred.set_description(indicator)\n",
        "  # macro_indicators[indicator] = pdr.DataReader(indicator, \"fred\", start=start, timeout=90)\n",
        "  macro_indicators[indicator] = pdr.fred.FredReader(indicator, start=start, timeout=90).read()"
      ]
    },
    {
      "cell_type": "code",
      "execution_count": null,
      "metadata": {
        "colab": {
          "base_uri": "https://localhost:8080/",
          "height": 450
        },
        "id": "eR38A9gRCx8r",
        "outputId": "64b3d62c-e106-4427-b691-00112eef9fb5"
      },
      "outputs": [],
      "source": [
        "macro_indicators['GDP']"
      ]
    },
    {
      "cell_type": "code",
      "execution_count": null,
      "metadata": {
        "colab": {
          "base_uri": "https://localhost:8080/"
        },
        "id": "gKAQdhTgho5x",
        "outputId": "923d0d90-d1f3-4a04-ac52-1665e2ba3302"
      },
      "outputs": [],
      "source": [
        "tq_quandl = tqdm(QUANDL_INDICATORS)\n",
        "# get the stats from QUANDL database\n",
        "tq_quandl.set_description(\"Downloading stats from QUANDL:\")\n",
        "for indicator in tq_quandl:\n",
        " # tq_quandl.set_description(indicator)\n",
        " # modify all indicator names '/': like \"USTREASURY/YIELD\" to \"USTREASURY_YIELD\"\n",
        " macro_indicators[indicator.replace(\"/\", \"_\")] = quandl.get(indicator, start_date=start, end_date=end, authtoken=\"5qE7KbLemDiZ9RfNsVuM\")"
      ]
    },
    {
      "cell_type": "code",
      "execution_count": null,
      "metadata": {
        "colab": {
          "base_uri": "https://localhost:8080/"
        },
        "id": "SxlmrQatkU0X",
        "outputId": "5b659caa-0472-41b3-cdb3-0093d103473b"
      },
      "outputs": [],
      "source": [
        "for indicator in tqdm(STOOQ_INDICATORS):\n",
        "  macro_indicators[indicator.replace(\"^\", \"\")]= pdr.get_data_stooq(indicator, start, end)"
      ]
    },
    {
      "cell_type": "code",
      "execution_count": null,
      "metadata": {
        "colab": {
          "base_uri": "https://localhost:8080/"
        },
        "id": "RGda8olCGwXf",
        "outputId": "91221334-a74e-4402-ae3d-61f8d50deb9d"
      },
      "outputs": [],
      "source": [
        "for i,value in enumerate(macro_indicators.keys()):\n",
        "  if i%6==0:\n",
        "    print('\\n')\n",
        "  print(value, end =\", \")  "
      ]
    },
    {
      "cell_type": "code",
      "execution_count": null,
      "metadata": {
        "colab": {
          "base_uri": "https://localhost:8080/",
          "height": 450
        },
        "id": "euCOYloI8l6c",
        "outputId": "cd1f0ba6-67ea-4c28-915a-fa764603d537"
      },
      "outputs": [],
      "source": [
        "macro_indicators['GDP']"
      ]
    },
    {
      "cell_type": "code",
      "execution_count": null,
      "metadata": {
        "colab": {
          "base_uri": "https://localhost:8080/",
          "height": 235
        },
        "id": "4ODlEfjtk8lN",
        "outputId": "52091d52-07f6-47d0-bf49-25920fa148f4"
      },
      "outputs": [],
      "source": [
        "# ORIGINAL STATS (need to reverse SPX and DJI):\n",
        "\n",
        "macro_indicators['SPX'].tail()"
      ]
    },
    {
      "cell_type": "code",
      "execution_count": null,
      "metadata": {
        "id": "OaDwvTMVzuJJ"
      },
      "outputs": [],
      "source": [
        "macro_indicators['SPX'] = macro_indicators['SPX'].reindex(index=macro_indicators['SPX'].index[::-1])\n",
        "macro_indicators['DJI'] = macro_indicators['DJI'].reindex(index=macro_indicators['DJI'].index[::-1])"
      ]
    },
    {
      "cell_type": "code",
      "execution_count": null,
      "metadata": {
        "colab": {
          "base_uri": "https://localhost:8080/",
          "height": 235
        },
        "id": "mbmrxjZXz934",
        "outputId": "894cc092-2a06-45e6-9bab-5bd457f7f0c1"
      },
      "outputs": [],
      "source": [
        "macro_indicators['SPX'].tail()"
      ]
    },
    {
      "cell_type": "code",
      "execution_count": null,
      "metadata": {
        "colab": {
          "base_uri": "https://localhost:8080/",
          "height": 368
        },
        "id": "gXqtd1J23mSz",
        "outputId": "5a86d82f-e1e1-4c5d-f71c-69cae4b12bc6"
      },
      "outputs": [],
      "source": [
        "macro_indicators['SPX']['Close'].plot.line(figsize=(20,6), grid = True, title='S&P500 Stock index')"
      ]
    },
    {
      "cell_type": "code",
      "execution_count": null,
      "metadata": {
        "colab": {
          "base_uri": "https://localhost:8080/",
          "height": 366
        },
        "id": "qB6ajHIr3xSy",
        "outputId": "3602195f-2988-422f-9f43-5e5bc5b6ae9f"
      },
      "outputs": [],
      "source": [
        "macro_indicators['DJI']['Close'].plot.line(figsize=(20,6), grid = True, title='DJI Stock index')"
      ]
    },
    {
      "cell_type": "code",
      "execution_count": null,
      "metadata": {
        "colab": {
          "base_uri": "https://localhost:8080/",
          "height": 391
        },
        "id": "MhzLxlmg_mg-",
        "outputId": "56585e9d-c253-401d-8107-9876b0c2f4aa"
      },
      "outputs": [],
      "source": [
        "# https://fred.stlouisfed.org/series/GVZCLS\n",
        "macro_indicators['GVZCLS'].plot.line(figsize=(20,6), grid = True, title='CBOE Gold ETF Volatility Index (GVZCLS) - daily')"
      ]
    },
    {
      "cell_type": "code",
      "execution_count": null,
      "metadata": {
        "colab": {
          "base_uri": "https://localhost:8080/",
          "height": 462
        },
        "id": "DUAlRyXPAyYN",
        "outputId": "b054fd26-12a8-4565-db78-484d4f276cde"
      },
      "outputs": [],
      "source": [
        "# https://fred.stlouisfed.org/series/VIXCLS\n",
        "macro_indicators['VIXCLS'].plot.line(figsize=(20,6), grid = True, title=' CBOE Volatility Index: VIX (VIXCLS)\t - daily')"
      ]
    },
    {
      "cell_type": "code",
      "execution_count": null,
      "metadata": {
        "colab": {
          "base_uri": "https://localhost:8080/",
          "height": 393
        },
        "id": "WwVi3necAK0A",
        "outputId": "0bdaa611-75ff-4824-9dcd-6a8a65a1ade5"
      },
      "outputs": [],
      "source": [
        "# https://fred.stlouisfed.org/series/STLFSI2\n",
        "macro_indicators['STLFSI2'].plot.line(figsize=(20,6), grid = True, title='St. Louis Fed Financial Stress Index (STLFSI2) - daily')"
      ]
    },
    {
      "cell_type": "code",
      "execution_count": null,
      "metadata": {
        "colab": {
          "base_uri": "https://localhost:8080/",
          "height": 391
        },
        "id": "dNYvNizf__jp",
        "outputId": "e4d40b40-bd35-44ea-8034-9e91b6ae68bb"
      },
      "outputs": [],
      "source": [
        "# https://fred.stlouisfed.org/series/FODSP\n",
        "macro_indicators['FODSP'].plot.line(figsize=(20,6), grid = True, title=' Household Financial Obligations as a Percent of Disposable Personal Income (FODSP) - Quarterly')"
      ]
    },
    {
      "cell_type": "code",
      "execution_count": null,
      "metadata": {
        "colab": {
          "base_uri": "https://localhost:8080/",
          "height": 371
        },
        "id": "oIblrfLAEtxJ",
        "outputId": "61d371df-22e4-4e82-9142-efcd61f9fdcb"
      },
      "outputs": [],
      "source": [
        "# https://www.multpl.com/shiller-pe\n",
        "# https://data.nasdaq.com/data/MULTPL/SHILLER_PE_RATIO_MONTH-shiller-pe-ratio-by-month\n",
        "macro_indicators['MULTPL_SHILLER_PE_RATIO_MONTH'].plot.line(figsize=(20,6), grid = True, title='Shiller PE Ratio - Monthly')"
      ]
    },
    {
      "cell_type": "code",
      "execution_count": null,
      "metadata": {
        "colab": {
          "base_uri": "https://localhost:8080/",
          "height": 385
        },
        "id": "ooGHwKG1FJrt",
        "outputId": "a84c2a81-6981-4545-c676-448f098a92b2"
      },
      "outputs": [],
      "source": [
        "# https://fred.stlouisfed.org/series/MANEMP\n",
        "macro_indicators['MANEMP'].plot.line(figsize=(20,6), grid = True, title='All Employees, Manufacturing (MANEMP) - Monthly')"
      ]
    },
    {
      "cell_type": "code",
      "execution_count": null,
      "metadata": {
        "colab": {
          "base_uri": "https://localhost:8080/"
        },
        "id": "VvoM7kXmtt9K",
        "outputId": "78b13345-889a-4758-c075-43227ac5edfe"
      },
      "outputs": [],
      "source": [
        "macro_indicators.keys()"
      ]
    },
    {
      "cell_type": "code",
      "execution_count": null,
      "metadata": {
        "colab": {
          "base_uri": "https://localhost:8080/"
        },
        "id": "J6FS6IVXiCN9",
        "outputId": "1af15c6a-02f0-493f-d8a1-fab1b4d78d95"
      },
      "outputs": [],
      "source": [
        "# Total indicators from FRED, QUANDL, and STOOQ:\n",
        "len(macro_indicators.keys())"
      ]
    },
    {
      "cell_type": "code",
      "execution_count": null,
      "metadata": {
        "id": "jSXTgFkFlvkJ"
      },
      "outputs": [],
      "source": [
        "# need to have a deep copy of macro indicators to make local transformations not changing the datarepo\n",
        "macro_indicators_dict = copy.deepcopy(macro_indicators)"
      ]
    },
    {
      "cell_type": "code",
      "execution_count": null,
      "metadata": {
        "id": "q7nzDuRblZgv"
      },
      "outputs": [],
      "source": [
        "def get_macro_shift_transformation(macro_indicators_dict, INDICATORS_PERIODS):\n",
        "        \"\"\"Add shifted (growth) values to the data_repo.macro_indicators before joining them together, remove non-stationary time series\"\"\"\n",
        "        \n",
        "        # Transform daily stats on this shift\n",
        "        HISTORICAL_PERIODS_DAYS = [1, 3, 7, 30, 90, 365]\n",
        "        \n",
        "        # Different types of transformations for daily, weekly, monthly, indicators\n",
        "        DoD_ind = [k for (k, v) in INDICATORS_PERIODS.items() if v == 'D']\n",
        "        WoW_ind = [k for (k, v) in INDICATORS_PERIODS.items() if v == 'W']\n",
        "        MoM_ind = [k for (k, v) in INDICATORS_PERIODS.items() if v == 'M']\n",
        "        QoQ_ind = [k for (k, v) in INDICATORS_PERIODS.items() if v == 'Q']\n",
        "        YoY_ind = [k for (k, v) in INDICATORS_PERIODS.items() if v == 'Y']\n",
        "\n",
        "        # rename and drop some columns (especially from QUANDL)\n",
        "        macro_indicators_dict['BCHAIN_MKPRU'].rename(\n",
        "            columns={'Value': 'BCHAIN_MKPRU'}, inplace=True)\n",
        "        macro_indicators_dict['MULTPL_SHILLER_PE_RATIO_MONTH'].rename(\n",
        "            columns={'Value': 'MULTPL_SHILLER_PE_RATIO_MONTH'}, inplace=True)\n",
        "        #  GOLD PRICE == evening (PM) value in USD on London Stock Exchange, drop all other columns\n",
        "        macro_indicators_dict['LBMA_GOLD'].rename(\n",
        "            columns={'USD (PM)': 'LBMA_GOLD'}, inplace=True)\n",
        "        macro_indicators_dict['LBMA_GOLD'].drop(\n",
        "            ['USD (AM)', 'GBP (AM)', 'GBP (PM)', 'EURO (AM)', 'EURO (PM)'], axis=1, inplace=True)\n",
        "        \n",
        "        # INDEXES: leave only Close price\n",
        "        macro_indicators_dict['SPX'].drop(\n",
        "            ['Open', 'High', 'Low', 'Volume'], axis=1, inplace=True)\n",
        "        macro_indicators_dict['SPX'].rename(\n",
        "            columns={'Close': 'SPX'}, inplace=True)\n",
        "        macro_indicators_dict['DJI'].drop(\n",
        "            ['Open', 'High', 'Low', 'Volume'], axis=1, inplace=True)\n",
        "        macro_indicators_dict['DJI'].rename(\n",
        "            columns={'Close': 'DJI'}, inplace=True)\n",
        "\n",
        "        for ind in DoD_ind:\n",
        "            # do transform only if oil_prices, blockchain_prices, gold_prices, indexes\n",
        "            if not ind in {'DCOILWTICO', 'BCHAIN_MKPRU', 'LBMA_GOLD','SPX','DJI'}:\n",
        "                continue\n",
        "            # treat those as an index\n",
        "            for i in HISTORICAL_PERIODS_DAYS:\n",
        "                df = macro_indicators_dict[ind]\n",
        "                ind_transformed = ind + '_growth_' + str(i)+'d'\n",
        "                df[ind_transformed] = df[ind]/df[ind].shift(i)-1\n",
        "\n",
        "        # future growth stats\n",
        "        for ind in ['SPX','DJI']:\n",
        "          for i in HISTORICAL_PERIODS_DAYS:\n",
        "            df = macro_indicators_dict[ind]\n",
        "            ind_transformed = ind + '_future_growth_' + str(i)+'d'\n",
        "            df[ind_transformed] = df[ind].shift(-i-1)/df[ind].shift(-1)-1\n",
        "\n",
        "        for ind in WoW_ind:\n",
        "            df = macro_indicators_dict[ind]\n",
        "            ind_transformed = ind + '_wow'\n",
        "            df[ind_transformed] = df[ind]/df[ind].shift(1)-1\n",
        "            ind_transformed = ind + '_mom'\n",
        "            df[ind_transformed] = df[ind]/df[ind].shift(5)-1\n",
        "            # drop original \"ind\" column if series are non-stationary\n",
        "            # do not drop original ind for FinStressIndex (STLFSI2), and Long-term Mortgage rates\n",
        "            if not ind in {'STLFSI2', 'MORTGAGE30US'}:\n",
        "                macro_indicators_dict[ind].drop(\n",
        "                    [ind], axis=1, inplace=True)\n",
        "\n",
        "        for ind in MoM_ind:\n",
        "            df = macro_indicators_dict[ind]\n",
        "            ind_transformed = ind + '_mom'\n",
        "            df[ind_transformed] = df[ind]/df[ind].shift(1)-1\n",
        "            ind_transformed = ind + '_yoy'\n",
        "            df[ind_transformed] = df[ind]/df[ind].shift(12)-1\n",
        "            # drop original \"ind\" column if series are non-stationary\n",
        "            # do not drop original ind for all indicators that are 'ratios' or 'percentages'\n",
        "            if not ind in {'UNRATE', 'CIVPART', 'EMRATIO', 'PSAVERT', 'INDPRO', 'TCU', 'SPCS20RSA', 'MULTPL_SHILLER_PE_RATIO_MONTH'}:\n",
        "                macro_indicators_dict[ind].drop(\n",
        "                    [ind], axis=1, inplace=True)\n",
        "\n",
        "        # create one field as div_ratio (% of profits paid as dividents)\n",
        "        macro_indicators_dict['CP'] = macro_indicators_dict['CP'].join(\n",
        "            macro_indicators_dict['DIVIDEND'])\n",
        "        macro_indicators_dict['CP']['div_ratio'] = macro_indicators_dict['CP']['DIVIDEND'] / \\\n",
        "            macro_indicators_dict['CP']['CP']\n",
        "        macro_indicators_dict['CP'].drop(\n",
        "            ['DIVIDEND'], axis=1, inplace=True)\n",
        "\n",
        "        for ind in QoQ_ind:\n",
        "            df = macro_indicators_dict[ind]\n",
        "            ind_transformed = ind + '_qoq'\n",
        "            df[ind_transformed] = df[ind]/df[ind].shift(1)-1\n",
        "            ind_transformed = ind + '_yoy'\n",
        "            df[ind_transformed] = df[ind]/df[ind].shift(4)-1\n",
        "            # drop original \"ind\" column if series are non-stationary\n",
        "            # do not drop original ind for all indicators that are 'ratios' or 'percentages'\n",
        "            if not ind in {'GDPDEF', 'M1V', 'M2V', 'NROU', 'CDSP', 'MDSP', 'FODSP', 'GFDEGDQ188S'}:\n",
        "                macro_indicators_dict[ind].drop(\n",
        "                    [ind], axis=1, inplace=True)\n",
        "\n",
        "        for ind in YoY_ind:\n",
        "            df = macro_indicators_dict[ind]\n",
        "            ind_transformed = ind + '_yoy'\n",
        "            df[ind_transformed] = df[ind]/df[ind].shift(1)-1\n",
        "            macro_indicators_dict[ind].drop([ind], axis=1, inplace=True)"
      ]
    },
    {
      "cell_type": "code",
      "execution_count": null,
      "metadata": {
        "id": "dAqbKoGpnJ6G"
      },
      "outputs": [],
      "source": [
        "get_macro_shift_transformation(macro_indicators_dict, INDICATORS_PERIODS)"
      ]
    },
    {
      "cell_type": "code",
      "execution_count": null,
      "metadata": {
        "colab": {
          "base_uri": "https://localhost:8080/",
          "height": 148
        },
        "id": "mT5IMcOIozPw",
        "outputId": "a0227054-bac7-4243-94fb-fff1186152c0"
      },
      "outputs": [],
      "source": [
        "# Daily\n",
        "macro_indicators_dict['LBMA_GOLD'].tail(1)"
      ]
    },
    {
      "cell_type": "code",
      "execution_count": null,
      "metadata": {
        "colab": {
          "base_uri": "https://localhost:8080/",
          "height": 340
        },
        "id": "RvMQZ7zXrdL0",
        "outputId": "450f2b35-b96d-4ec5-fd23-bf2653961736"
      },
      "outputs": [],
      "source": [
        "macro_indicators_dict['SPX'].tail(5)"
      ]
    },
    {
      "cell_type": "code",
      "execution_count": null,
      "metadata": {
        "colab": {
          "base_uri": "https://localhost:8080/",
          "height": 354
        },
        "id": "8ylJFeJv4jfg",
        "outputId": "f9643420-94d1-48ea-8464-d7ea71d82f58"
      },
      "outputs": [],
      "source": [
        "macro_indicators_dict['SPX']['SPX_growth_365d'].plot.line(figsize=(20,6), grid = True)"
      ]
    },
    {
      "cell_type": "code",
      "execution_count": null,
      "metadata": {
        "colab": {
          "base_uri": "https://localhost:8080/",
          "height": 354
        },
        "id": "bKM8MXBb4te1",
        "outputId": "cd434f3d-e5c3-4f6e-bbab-fb221a8c8ac9"
      },
      "outputs": [],
      "source": [
        "macro_indicators_dict['DJI']['DJI_growth_365d'].plot.line(figsize=(20,6), grid = True)"
      ]
    },
    {
      "cell_type": "code",
      "execution_count": null,
      "metadata": {
        "colab": {
          "base_uri": "https://localhost:8080/",
          "height": 235
        },
        "id": "YOG0-2-bo1Yn",
        "outputId": "718d840a-3dc1-4886-e408-0c8c62be1b34"
      },
      "outputs": [],
      "source": [
        "# Quarterly\n",
        "macro_indicators_dict['GDP'].tail(5)"
      ]
    },
    {
      "cell_type": "code",
      "execution_count": null,
      "metadata": {
        "colab": {
          "base_uri": "https://localhost:8080/",
          "height": 235
        },
        "id": "06psk05Hp-XA",
        "outputId": "a45828f7-ae2a-4a90-f03d-077d80da192c"
      },
      "outputs": [],
      "source": [
        "# Monthly\n",
        "macro_indicators_dict['CPILFESL'].tail(5)"
      ]
    },
    {
      "cell_type": "code",
      "execution_count": null,
      "metadata": {
        "colab": {
          "base_uri": "https://localhost:8080/",
          "height": 235
        },
        "id": "AH7TZjopqSSs",
        "outputId": "a6fdbc33-2f4a-416b-fc0c-48d267b447d8"
      },
      "outputs": [],
      "source": [
        "# Weekly\n",
        "macro_indicators_dict['ICSA'].tail(5)"
      ]
    },
    {
      "cell_type": "code",
      "execution_count": null,
      "metadata": {
        "colab": {
          "base_uri": "https://localhost:8080/",
          "height": 111
        },
        "id": "d9CTWYc4qaV-",
        "outputId": "2b30dc59-ca74-45b5-c92a-4a30a8f3995a"
      },
      "outputs": [],
      "source": [
        "# Yearly (WORLD GDP)\n",
        "macro_indicators_dict['NYGDPMKTPCDWLD'].tail(1)"
      ]
    },
    {
      "cell_type": "code",
      "execution_count": null,
      "metadata": {
        "colab": {
          "base_uri": "https://localhost:8080/"
        },
        "id": "xUYOcLzNIBTR",
        "outputId": "52b916bb-c9d0-4662-b64c-3d05f373476d"
      },
      "outputs": [],
      "source": [
        "for i,value in enumerate(macro_indicators_dict.keys()):\n",
        "  if i%6==0:\n",
        "    print('\\n')\n",
        "  print(value, end =\", \")  "
      ]
    },
    {
      "cell_type": "code",
      "execution_count": null,
      "metadata": {
        "colab": {
          "base_uri": "https://localhost:8080/"
        },
        "id": "Q4lw9dbDtJ6W",
        "outputId": "b2bb5d61-5639-4d9c-de01-c632bddb25b9"
      },
      "outputs": [],
      "source": [
        "dates = pd.DataFrame(macro_indicators_dict['SPX'].index.sort_values().unique(), columns=['Date'])\n",
        "dates"
      ]
    },
    {
      "cell_type": "code",
      "execution_count": null,
      "metadata": {
        "id": "8N2sEq28sMvK"
      },
      "outputs": [],
      "source": [
        "def get_daily_macro_stats_df(daily_df, macro_ind_df, regime='LAST'):\n",
        "        \"\"\"take Time from daily_df, and apply that to macro_ind_df, (LAST=take last observation, PREVIOUS=take previous) \"\"\"\n",
        "        ticker_dates = daily_df.Date.sort_values().unique()\n",
        "        new_column_dict = {}\n",
        "\n",
        "        for elem in ticker_dates:\n",
        "            ts = pd.to_datetime(str(elem))\n",
        "            d = ts.strftime('%Y-%m-%d')\n",
        "            # all potential records to merge\n",
        "            options_to_merge = macro_ind_df[macro_ind_df.index <= d]\n",
        "            if len(options_to_merge) == 0:\n",
        "                continue\n",
        "            last_value = options_to_merge.tail(1).values.tolist()[0]\n",
        "            prev_value = options_to_merge.tail(2).values.tolist()[0]\n",
        "            if regime == 'PREVIOUS':\n",
        "                if prev_value is not None:\n",
        "                    new_column_dict[d] = prev_value\n",
        "            elif regime == 'LAST':\n",
        "                if last_value is not None:\n",
        "                    new_column_dict[d] = last_value\n",
        "            else:\n",
        "                raise(\"Regime should be in ('PREVIOUS','LAST')\")\n",
        "        return pd.DataFrame.from_dict(new_column_dict, orient='index', columns = options_to_merge.keys())"
      ]
    },
    {
      "cell_type": "code",
      "execution_count": null,
      "metadata": {
        "colab": {
          "base_uri": "https://localhost:8080/"
        },
        "id": "Hh8hTTa6sbpH",
        "outputId": "3a06c704-45f4-4a36-f6b9-b76fc64f7d6f"
      },
      "outputs": [],
      "source": [
        "lastday_ind = [k for (k, v) in INDICATORS_PERIODS.items() if v not in ('M', 'Q', 'Y')]\n",
        "  # join on the previous available date (M,Q,Y stats write say '2021-01-01' - but they represent the whole M,Q,Y STARTING at this date)\n",
        "firstday_ind = [k for (k, v) in INDICATORS_PERIODS.items() if v in ('M', 'Q', 'Y')]\n",
        "\n",
        "  # start from all dates we need to have macro stats\n",
        "dates = pd.DataFrame(macro_indicators_dict['SPX'].index.sort_values().unique(), columns=['Date'])\n",
        "\n",
        "macro_data_df = None\n",
        "#  iterate over all transformed series in self.macro_indicators_dict and join one by one\n",
        "# all non-Monthly indicators are\n",
        "tq_last_day = tqdm(lastday_ind)\n",
        "tq_last_day.set_description(\"Merging LAST Day indicators\")\n",
        "for ind in tq_last_day:\n",
        "  # do not add some indicators to the final dataset (they are duplicated in another datasource)\n",
        "  if ind in ('USTREASURY_YIELD', 'USTREASURY_REALYIELD'):\n",
        "    continue\n",
        "  df_to_merge = get_daily_macro_stats_df(dates, macro_indicators_dict[ind], regime='LAST')\n",
        "  if macro_data_df is None:\n",
        "    macro_data_df = df_to_merge\n",
        "  else:\n",
        "    macro_data_df = macro_data_df.join(df_to_merge)\n",
        "\n",
        "tq_first_day = tqdm(firstday_ind)\n",
        "tq_first_day.set_description(\"Merging FIRST Day indicators\")\n",
        "#  some stats  have first day of period date (e.g. '2020-06-01' instead of '2020-06-30'), so we need to get PREVIOUS available macro param\n",
        "for ind in tq_first_day:\n",
        "  df_to_merge = get_daily_macro_stats_df(dates, macro_indicators_dict[ind], regime='PREVIOUS')\n",
        "  if macro_data_df is None:\n",
        "    macro_data_df = df_to_merge\n",
        "  else:\n",
        "    macro_data_df = macro_data_df.join(df_to_merge)"
      ]
    },
    {
      "cell_type": "code",
      "execution_count": null,
      "metadata": {
        "colab": {
          "base_uri": "https://localhost:8080/"
        },
        "id": "_goijnXVw92l",
        "outputId": "8b83ce95-d1b3-4c5a-8d53-4d647cfce81b"
      },
      "outputs": [],
      "source": [
        "macro_data_df.info()"
      ]
    },
    {
      "cell_type": "code",
      "execution_count": null,
      "metadata": {
        "id": "rXztMyi0xBCR"
      },
      "outputs": [],
      "source": [
        "# learn how to save a dataframe efficiently\n",
        "macro_data_df.to_parquet('macro_df_small.parquet',compression='BROTLI')"
      ]
    },
    {
      "cell_type": "code",
      "execution_count": null,
      "metadata": {
        "id": "jHVQCg5gxY0x"
      },
      "outputs": [],
      "source": [
        "macro_df = pd.read_parquet('macro_df_small.parquet')"
      ]
    },
    {
      "cell_type": "code",
      "execution_count": null,
      "metadata": {
        "colab": {
          "base_uri": "https://localhost:8080/"
        },
        "id": "s-eGyOuHLCB3",
        "outputId": "0cbe87bf-0a9d-4130-fbea-7dc66d3ed0da"
      },
      "outputs": [],
      "source": [
        "len(macro_df.keys())"
      ]
    },
    {
      "cell_type": "code",
      "execution_count": null,
      "metadata": {
        "colab": {
          "base_uri": "https://localhost:8080/"
        },
        "id": "MmrYSe9AK9rf",
        "outputId": "e24836f7-8c96-4a42-b342-913349415cf0"
      },
      "outputs": [],
      "source": [
        "i=1\n",
        "for value in macro_df.keys():\n",
        "  if not ('future' in value):\n",
        "    print(value, end =\", \")\n",
        "    if i%8==0:\n",
        "      print('\\n')\n",
        "    i+=1\n",
        "    "
      ]
    },
    {
      "cell_type": "code",
      "execution_count": null,
      "metadata": {
        "colab": {
          "base_uri": "https://localhost:8080/"
        },
        "id": "8nq29wfnLLmY",
        "outputId": "600a5ca7-bc80-4134-997b-3d71ae5d93a6"
      },
      "outputs": [],
      "source": [
        "pd.set_option('display.max_columns', 10)\n",
        "macro_df.tail(1)\n",
        "# pd.set_option('display.max_columns', None)"
      ]
    },
    {
      "cell_type": "code",
      "execution_count": null,
      "metadata": {
        "colab": {
          "base_uri": "https://localhost:8080/"
        },
        "id": "nwl3qMdyxpiQ",
        "outputId": "27bbddda-3a2b-4d74-f1cf-f4039bd877a7"
      },
      "outputs": [],
      "source": [
        "macro_df.tail(100)"
      ]
    },
    {
      "cell_type": "code",
      "execution_count": null,
      "metadata": {
        "colab": {
          "base_uri": "https://localhost:8080/"
        },
        "id": "vS3p-yc0zWxQ",
        "outputId": "a6254322-d2d0-4d78-d5a3-80ce10d5f898"
      },
      "outputs": [],
      "source": [
        "macro_indicators_dict['SPX']"
      ]
    },
    {
      "cell_type": "code",
      "execution_count": null,
      "metadata": {
        "colab": {
          "base_uri": "https://localhost:8080/"
        },
        "id": "FiihkUrBx36q",
        "outputId": "2a9210eb-b9d6-42ee-ecc0-2e8ea6a9e36a"
      },
      "outputs": [],
      "source": [
        "macro_df['SPX']"
      ]
    },
    {
      "cell_type": "code",
      "execution_count": null,
      "metadata": {
        "colab": {
          "base_uri": "https://localhost:8080/"
        },
        "id": "ZP1MFtiL13rg",
        "outputId": "e322653b-2101-43a0-e3fa-4077b44ae40a"
      },
      "outputs": [],
      "source": [
        "macro_df.tail(1)"
      ]
    },
    {
      "cell_type": "code",
      "execution_count": null,
      "metadata": {
        "colab": {
          "base_uri": "https://localhost:8080/"
        },
        "id": "8oIyXqdY7UVt",
        "outputId": "a0f07f61-e11b-4eec-d3c2-e3a97c3eff00"
      },
      "outputs": [],
      "source": [
        "macro_df.corr()"
      ]
    },
    {
      "cell_type": "code",
      "execution_count": null,
      "metadata": {
        "id": "RZqalzGFxuYi"
      },
      "outputs": [],
      "source": [
        "SPX_growth_365d_corr = pd.DataFrame(macro_df.corr()['SPX_growth_365d'].sort_values())"
      ]
    },
    {
      "cell_type": "code",
      "execution_count": null,
      "metadata": {
        "colab": {
          "base_uri": "https://localhost:8080/"
        },
        "id": "2x95_R622vAS",
        "outputId": "59d52221-2266-435e-d624-2ee37a1fcbfb"
      },
      "outputs": [],
      "source": [
        "SPX_growth_365d_corr.head()"
      ]
    },
    {
      "cell_type": "code",
      "execution_count": null,
      "metadata": {
        "colab": {
          "base_uri": "https://localhost:8080/"
        },
        "id": "luukKxPi2r5K",
        "outputId": "4c42b3af-0e77-4420-b2eb-8b0f0d72ffd3"
      },
      "outputs": [],
      "source": [
        "SPX_growth_365d_corr.tail()"
      ]
    },
    {
      "cell_type": "code",
      "execution_count": null,
      "metadata": {
        "colab": {
          "base_uri": "https://localhost:8080/"
        },
        "id": "7k9aUmUM2OEd",
        "outputId": "8c23499f-a3f9-4672-cda7-0a97eb79eafe"
      },
      "outputs": [],
      "source": [
        "filter = np.abs(SPX_growth_365d_corr.SPX_growth_365d)>=0.5\n",
        "SPX_growth_365d_corr[filter].plot.barh(figsize=(20,10), grid=True)"
      ]
    },
    {
      "cell_type": "code",
      "execution_count": null,
      "metadata": {
        "colab": {
          "base_uri": "https://localhost:8080/"
        },
        "id": "d0jtSNbw6nHb",
        "outputId": "47ba055c-e0e6-47f3-ed62-1a8bed373dea"
      },
      "outputs": [],
      "source": [
        "macro_df.corr()['SPX_growth_365d'].sort_values()"
      ]
    },
    {
      "cell_type": "code",
      "execution_count": null,
      "metadata": {
        "colab": {
          "base_uri": "https://localhost:8080/"
        },
        "id": "5N6UauC21sE8",
        "outputId": "bda18130-cf67-4fac-c68a-b03d492b2ce6"
      },
      "outputs": [],
      "source": [
        "macro_df.corr()['DJI_growth_365d'].sort_values()"
      ]
    },
    {
      "cell_type": "code",
      "execution_count": null,
      "metadata": {
        "colab": {
          "base_uri": "https://localhost:8080/"
        },
        "id": "YSQmIGm86rYT",
        "outputId": "9f23fa7c-924d-45a9-9475-ac17696e3ebc"
      },
      "outputs": [],
      "source": [
        "macro_df.corr()['SPX_growth_90d'].sort_values()"
      ]
    },
    {
      "cell_type": "code",
      "execution_count": null,
      "metadata": {
        "colab": {
          "base_uri": "https://localhost:8080/"
        },
        "id": "RMMj-SQp7sl9",
        "outputId": "3968ebab-ae82-49c4-e668-721adc4938db"
      },
      "outputs": [],
      "source": [
        "macro_df.corr()['SPX_growth_30d'].sort_values()"
      ]
    },
    {
      "cell_type": "code",
      "execution_count": null,
      "metadata": {
        "colab": {
          "base_uri": "https://localhost:8080/"
        },
        "id": "xGokDhFLz_Lf",
        "outputId": "eb292172-c62a-4470-b650-5b3e606ead6a"
      },
      "outputs": [],
      "source": [
        "# Future growth indicators are mostly correlated with each other\n",
        "future_ind = []\n",
        "for ind in macro_df.keys():\n",
        "  if 'future' in ind:\n",
        "    future_ind.append(ind)\n",
        "  \n",
        "print(future_ind)"
      ]
    },
    {
      "cell_type": "code",
      "execution_count": null,
      "metadata": {
        "id": "gULKjwU7YaTx"
      },
      "outputs": [],
      "source": [
        "# include all features \n",
        "macro_df_no_future_ind = macro_df.keys()\n",
        "# do not use future_ind in the list to find correlations with the label (which is a future_indicator)\n",
        "macro_df_no_future_ind = macro_df_no_future_ind.drop(future_ind)"
      ]
    },
    {
      "cell_type": "code",
      "execution_count": null,
      "metadata": {
        "colab": {
          "base_uri": "https://localhost:8080/"
        },
        "id": "tZDrPo5lz8Dr",
        "outputId": "af828425-a368-409d-ef0a-8ba613dd042c"
      },
      "outputs": [],
      "source": [
        "macro_df.corr()['SPX_future_growth_365d'][macro_df_no_future_ind].sort_values()"
      ]
    },
    {
      "cell_type": "code",
      "execution_count": null,
      "metadata": {
        "colab": {
          "base_uri": "https://localhost:8080/"
        },
        "id": "vmkkCi4S0ywn",
        "outputId": "9816eed4-fdb0-4c07-f222-3dae66436a04"
      },
      "outputs": [],
      "source": [
        "macro_df.corr()['SPX_future_growth_90d'][macro_df_no_future_ind].sort_values()"
      ]
    },
    {
      "cell_type": "code",
      "execution_count": null,
      "metadata": {
        "colab": {
          "base_uri": "https://localhost:8080/"
        },
        "id": "BrgHbKqG0_1X",
        "outputId": "685a1fcf-0fd5-4b83-e346-525653ae6727"
      },
      "outputs": [],
      "source": [
        "macro_df.corr()['SPX_future_growth_30d'][macro_df_no_future_ind].sort_values()"
      ]
    },
    {
      "cell_type": "code",
      "execution_count": null,
      "metadata": {
        "id": "aW1Av5WTDIlL"
      },
      "outputs": [],
      "source": [
        "# all features should be numeric\n",
        "for key in macro_df.keys():\n",
        "  macro_df[key] = macro_df[key].astype(float)"
      ]
    },
    {
      "cell_type": "code",
      "execution_count": null,
      "metadata": {
        "id": "458qi5nRCDY4"
      },
      "outputs": [],
      "source": [
        "# include all features \n",
        "X_keys = macro_df.keys()\n",
        "# do not use future ind to predict\n",
        "X_keys = X_keys.drop(future_ind)"
      ]
    },
    {
      "cell_type": "code",
      "execution_count": null,
      "metadata": {
        "id": "oN2YDDl1DjLl"
      },
      "outputs": [],
      "source": [
        "# deep copy of the dataframe not to change the original df\n",
        "macro_copy = macro_df.copy(deep=True)"
      ]
    },
    {
      "cell_type": "code",
      "execution_count": null,
      "metadata": {
        "id": "zCdv-c7REt-T"
      },
      "outputs": [],
      "source": [
        "# replace bad values with np.nan\n",
        "macro_copy.replace([np.inf, -np.inf], np.nan, inplace=True)"
      ]
    },
    {
      "cell_type": "code",
      "execution_count": null,
      "metadata": {
        "id": "8lDVWjtCHouo"
      },
      "outputs": [],
      "source": [
        "macro_copy.fillna(0,inplace=True)\n",
        "# macro_copy.dropna(inplace=True)"
      ]
    },
    {
      "cell_type": "code",
      "execution_count": null,
      "metadata": {
        "colab": {
          "base_uri": "https://localhost:8080/"
        },
        "id": "lZSxA8laW3AR",
        "outputId": "adfb7946-71d2-4004-da9a-dd77b439adbc"
      },
      "outputs": [],
      "source": [
        "macro_copy.shape"
      ]
    },
    {
      "cell_type": "code",
      "execution_count": null,
      "metadata": {
        "id": "adLWHbJfH8oN"
      },
      "outputs": [],
      "source": [
        "X = macro_copy[X_keys]"
      ]
    },
    {
      "cell_type": "code",
      "execution_count": null,
      "metadata": {
        "id": "90lRMzK7CtBo"
      },
      "outputs": [],
      "source": [
        "#get all features in X and dependent variable in y\n",
        "y = macro_copy['SPX_future_growth_90d']"
      ]
    },
    {
      "cell_type": "code",
      "execution_count": null,
      "metadata": {
        "colab": {
          "base_uri": "https://localhost:8080/",
          "height": 338
        },
        "id": "25UnE8a1IQLX",
        "outputId": "a8e6c41f-57a5-4784-a58f-f37d2b887b8a"
      },
      "outputs": [],
      "source": [
        "X.tail()"
      ]
    },
    {
      "cell_type": "code",
      "execution_count": null,
      "metadata": {
        "id": "3JOagEnnLcIQ"
      },
      "outputs": [],
      "source": [
        "# https://machinelearningmastery.com/calculate-feature-importance-with-python/\n",
        "\n",
        "from collections import OrderedDict\n",
        "from sklearn.tree import DecisionTreeRegressor\n",
        "from matplotlib import pyplot"
      ]
    },
    {
      "cell_type": "code",
      "execution_count": null,
      "metadata": {
        "id": "hqn1Y5J6Nc-b"
      },
      "outputs": [],
      "source": [
        "# define a function that returns an ordered dictionary of features, sorted by importance\n",
        "def get_importance_features(model):\n",
        "  importance = model.feature_importances_\n",
        "  feat_imp = OrderedDict()\n",
        "  # summarize feature importance\n",
        "  for i,v in enumerate(importance):\n",
        "    feat_imp[X.keys()[i]] = importance[i]\n",
        "\n",
        "  # https://stackoverflow.com/questions/613183/how-do-i-sort-a-dictionary-by-value  \n",
        "  sorted_feat_imp = sorted(feat_imp.items(), key=lambda kv: kv[1])\n",
        "\n",
        "  return sorted_feat_imp"
      ]
    },
    {
      "cell_type": "code",
      "execution_count": null,
      "metadata": {
        "id": "ZxjhjocbIgY9"
      },
      "outputs": [],
      "source": [
        "# init the class and fit the model\n",
        "decision_tree_model = DecisionTreeRegressor()\n",
        "decision_tree_model.fit(X, y)\n",
        "\n",
        "decision_feat_imp = get_importance_features(decision_tree_model)"
      ]
    },
    {
      "cell_type": "code",
      "execution_count": null,
      "metadata": {
        "colab": {
          "base_uri": "https://localhost:8080/"
        },
        "id": "H8o9dJKvLtDZ",
        "outputId": "d3c8436c-a69c-4c22-eff0-6e4b90a31727"
      },
      "outputs": [],
      "source": [
        "# Prediction of SPX_future_growth_90d:\n",
        "decision_feat_imp[-10:]"
      ]
    },
    {
      "cell_type": "code",
      "execution_count": null,
      "metadata": {
        "id": "wNjBjWepSRsp"
      },
      "outputs": [],
      "source": [
        "from sklearn.model_selection import train_test_split\n",
        "\n",
        "X_train, X_test, y_train, y_test = train_test_split(X, y, test_size=0.2, shuffle=False)"
      ]
    },
    {
      "cell_type": "code",
      "execution_count": null,
      "metadata": {
        "id": "yvWUmPVoTGzm"
      },
      "outputs": [],
      "source": [
        "# define the model\n",
        "decision_tree_model2 = DecisionTreeRegressor()\n",
        "decision_tree_model2.fit(X_train, y_train)\n",
        "\n",
        "decision_feat_imp2 = get_importance_features(decision_tree_model2)"
      ]
    },
    {
      "cell_type": "code",
      "execution_count": null,
      "metadata": {
        "colab": {
          "base_uri": "https://localhost:8080/"
        },
        "id": "SjYycLJETPA5",
        "outputId": "4ba3b1f8-5834-41e7-b3b8-587ec4086b91"
      },
      "outputs": [],
      "source": [
        "decision_feat_imp2[-10:]"
      ]
    },
    {
      "cell_type": "code",
      "execution_count": null,
      "metadata": {
        "id": "NX513MwXTbE6"
      },
      "outputs": [],
      "source": [
        "y_pred = decision_tree_model2.predict(X_test)"
      ]
    },
    {
      "cell_type": "code",
      "execution_count": null,
      "metadata": {
        "colab": {
          "base_uri": "https://localhost:8080/",
          "height": 359
        },
        "id": "L4vX_yGkTsW8",
        "outputId": "378f8008-85e6-443c-8dc3-32aaf335a4f7"
      },
      "outputs": [],
      "source": [
        "df = pd.DataFrame({'Actual': y_test, 'Predicted':y_pred})\n",
        "df[0:10]"
      ]
    },
    {
      "cell_type": "code",
      "execution_count": null,
      "metadata": {
        "id": "2L8mG9Cqbq2N"
      },
      "outputs": [],
      "source": [
        "from sklearn.ensemble import RandomForestRegressor\n",
        "\n",
        "clf = RandomForestRegressor(max_depth=8, random_state=0)"
      ]
    },
    {
      "cell_type": "code",
      "execution_count": null,
      "metadata": {
        "id": "4clBpYtcbyuM"
      },
      "outputs": [],
      "source": [
        "clf.fit(X_train, y_train)\n",
        "\n",
        "clf_imp = get_importance_features(clf)"
      ]
    },
    {
      "cell_type": "code",
      "execution_count": null,
      "metadata": {
        "id": "xDlZu0d6cbyp"
      },
      "outputs": [],
      "source": [
        "y_pred_clf = clf.predict(X_test)"
      ]
    },
    {
      "cell_type": "code",
      "execution_count": null,
      "metadata": {
        "id": "mNCrfKT4cpXM"
      },
      "outputs": [],
      "source": [
        "df2 = pd.DataFrame({'Actual': y_test, 'Predicted':y_pred_clf})\n"
      ]
    },
    {
      "cell_type": "code",
      "execution_count": null,
      "metadata": {
        "colab": {
          "base_uri": "https://localhost:8080/",
          "height": 342
        },
        "id": "Mh2aMOyGWBai",
        "outputId": "23153115-f83f-489e-d58d-d710d4a6b77e"
      },
      "outputs": [],
      "source": [
        "# Decision Tree : Actual vs. Predicted graph\n",
        "import matplotlib.ticker as mtick\n",
        "\n",
        "ax = df.plot(figsize=(20,6), grid=True)\n",
        "ax.yaxis.set_major_formatter(mtick.PercentFormatter(1))\n"
      ]
    },
    {
      "cell_type": "code",
      "execution_count": null,
      "metadata": {
        "colab": {
          "base_uri": "https://localhost:8080/",
          "height": 342
        },
        "id": "SFVtBLE0czEK",
        "outputId": "c1a897f3-cb6c-4e46-d18d-54ced4222518"
      },
      "outputs": [],
      "source": [
        "# Random Forest regressor : Actual vs. Predicted graph\n",
        "\n",
        "import matplotlib.ticker as mtick\n",
        "\n",
        "ax = df2.plot(figsize=(20,6), grid=True)\n",
        "\n",
        "ax.yaxis.set_major_formatter(mtick.PercentFormatter(1))"
      ]
    },
    {
      "cell_type": "code",
      "execution_count": null,
      "metadata": {
        "colab": {
          "base_uri": "https://localhost:8080/",
          "height": 351
        },
        "id": "cn6fZm-EZoSz",
        "outputId": "64331d53-9f33-4ee1-ca81-bf9de677d723"
      },
      "outputs": [],
      "source": [
        "# what is the distribution of errors?\n",
        "import seaborn as sns\n",
        "sns.distplot(y_test-y_pred)"
      ]
    },
    {
      "cell_type": "code",
      "execution_count": null,
      "metadata": {
        "colab": {
          "base_uri": "https://localhost:8080/",
          "height": 282
        },
        "id": "ygkA4rPdZ0FR",
        "outputId": "58335c6a-d0bb-484f-8202-9ac26f34a7ec"
      },
      "outputs": [],
      "source": [
        "plt.scatter(y_test,y_pred)"
      ]
    },
    {
      "cell_type": "code",
      "execution_count": null,
      "metadata": {
        "colab": {
          "base_uri": "https://localhost:8080/"
        },
        "id": "yeMWgzOOT-I8",
        "outputId": "838bee62-0bcb-4d67-9690-7a8d69ad0f9e"
      },
      "outputs": [],
      "source": [
        "from sklearn import metrics\n",
        "print('Mean Absolute Error:', metrics.mean_absolute_error(y_test, y_pred))\n",
        "print('Mean Squared Error:', metrics.mean_squared_error(y_test, y_pred))\n",
        "print('Root Mean Squared Error:', np.sqrt(metrics.mean_squared_error(y_test, y_pred)))"
      ]
    },
    {
      "cell_type": "code",
      "execution_count": null,
      "metadata": {
        "id": "gLX3AVJKaifg"
      },
      "outputs": [],
      "source": [
        "# GridSearch for Hyperparams: https://www.nbshare.io/notebook/312837011/Decision-Tree-Regression-With-Hyper-Parameter-Tuning-In-Python/\n",
        "parameters={\"splitter\":[\"best\",\"random\"],\n",
        "            \"max_depth\" : [1,3,5,7,9,11,12],\n",
        "           \"min_samples_leaf\":[1,2,3,4,5,6,7,8,9,10],\n",
        "           \"min_weight_fraction_leaf\":[0.1,0.2,0.3,0.4,0.5,0.6,0.7,0.8,0.9],\n",
        "           \"max_features\":[\"auto\",\"log2\",\"sqrt\",None],\n",
        "           \"max_leaf_nodes\":[None,10,20,30,40,50,60,70,80,90] }\n",
        "# parameters={\"splitter\":[\"best\",\"random\"],\n",
        "#             \"max_depth\" : [1,3,5,7],\n",
        "#            \"min_samples_leaf\":[1,2,3,4],\n",
        "#            \"min_weight_fraction_leaf\":[0.1,0.2,0.3],\n",
        "#            \"max_features\":[\"auto\",\"log2\",\"sqrt\",None],\n",
        "#            \"max_leaf_nodes\":[None,10,20,30] }"
      ]
    },
    {
      "cell_type": "code",
      "execution_count": null,
      "metadata": {
        "id": "-g2x_J8QamAE"
      },
      "outputs": [],
      "source": [
        "from sklearn.model_selection import GridSearchCV\n",
        "\n",
        "tuning_model = GridSearchCV(decision_tree_model, \n",
        "                            param_grid=parameters, \n",
        "                            scoring='neg_mean_squared_error',\n",
        "                            cv=3,\n",
        "                            verbose=3,\n",
        "                            n_jobs = -1)\n",
        "# https://stackoverflow.com/questions/18752795/gridsearchcv-n-jobs-in-parallel-internals"
      ]
    },
    {
      "cell_type": "code",
      "execution_count": null,
      "metadata": {
        "id": "E2cgbLqCayy_"
      },
      "outputs": [],
      "source": [
        "\n",
        "def timer(start_time=None):\n",
        "    if not start_time:\n",
        "        start_time=datetime.now()\n",
        "        return start_time\n",
        "    elif start_time:\n",
        "        thour,temp_sec=divmod((datetime.now()-start_time).total_seconds(),3600)\n",
        "        tmin,tsec=divmod(temp_sec,60)\n",
        "        #print(thour,\":\",tmin,':',round(tsec,2))"
      ]
    },
    {
      "cell_type": "code",
      "execution_count": null,
      "metadata": {
        "id": "MAYYxEZaa183"
      },
      "outputs": [],
      "source": [
        "%%capture\n",
        "from datetime import datetime\n",
        "\n",
        "start_time=timer(None)\n",
        "\n",
        "tuning_model.fit(X,y)\n",
        "\n",
        "timer(start_time)"
      ]
    },
    {
      "cell_type": "code",
      "execution_count": null,
      "metadata": {
        "colab": {
          "base_uri": "https://localhost:8080/"
        },
        "id": "Fh0wqt5As7Cb",
        "outputId": "e59bec40-4e33-4b54-c91c-37e33e53d090"
      },
      "outputs": [],
      "source": [
        "tuning_model.best_params_\n"
      ]
    },
    {
      "cell_type": "code",
      "execution_count": null,
      "metadata": {
        "id": "gGTgeJLEtC6C"
      },
      "outputs": [],
      "source": [
        "tuned_hyper_model= DecisionTreeRegressor(max_depth=12,\n",
        "                                         max_features='sqrt',\n",
        "                                         max_leaf_nodes=70,\n",
        "                                         min_samples_leaf=1,\n",
        "                                         min_weight_fraction_leaf=0.1,\n",
        "                                         splitter='random')"
      ]
    },
    {
      "cell_type": "code",
      "execution_count": null,
      "metadata": {
        "id": "595uOkuktWfY"
      },
      "outputs": [],
      "source": [
        "tuned_pred = tuned_hyper_model.predict(X_test)"
      ]
    },
    {
      "cell_type": "code",
      "execution_count": null,
      "metadata": {
        "id": "rSwraBzmtav0"
      },
      "outputs": [],
      "source": [
        "df3 = pd.DataFrame({'Actual': y_test, 'Predicted':tuned_pred})\n",
        "df3.to_excel('df3.xlsx')"
      ]
    },
    {
      "cell_type": "code",
      "execution_count": null,
      "metadata": {
        "colab": {
          "base_uri": "https://localhost:8080/"
        },
        "id": "1_SKcx7WuOQE",
        "outputId": "caa38de4-25a2-4da0-a5bf-49e9367c5046"
      },
      "outputs": [],
      "source": [
        "ax = df.plot(figsize=(20,6), grid=True)\n",
        "ax.yaxis.set_major_formatter(mtick.PercentFormatter(1))\n"
      ]
    },
    {
      "cell_type": "code",
      "execution_count": null,
      "metadata": {
        "colab": {
          "base_uri": "https://localhost:8080/"
        },
        "id": "xyw29XuiuSAs",
        "outputId": "c3eafab3-60ff-4bad-a5b4-a777a4ddc192"
      },
      "outputs": [],
      "source": [
        "ax = df3.plot(figsize=(20,6), grid=True)\n",
        "ax.yaxis.set_major_formatter(mtick.PercentFormatter(1))"
      ]
    }
  ],
  "metadata": {
    "colab": {
      "authorship_tag": "ABX9TyNv133/sdT+uDoWGGhox9km",
      "collapsed_sections": [
        "BjikIQwvr6Ox",
        "RMofXftN7YUV"
      ],
      "include_colab_link": true,
      "name": "PythonInvest.com :: 5. Macro Indicators vs. Stock Indexes Growth.ipynb",
      "provenance": []
    },
    "kernelspec": {
      "display_name": "Python 3",
      "name": "python3"
    },
    "language_info": {
      "codemirror_mode": {
        "name": "ipython",
        "version": 3
      },
      "file_extension": ".py",
      "mimetype": "text/x-python",
      "name": "python",
      "nbconvert_exporter": "python",
      "pygments_lexer": "ipython3",
      "version": "3.12.0"
    }
  },
  "nbformat": 4,
  "nbformat_minor": 0
}
