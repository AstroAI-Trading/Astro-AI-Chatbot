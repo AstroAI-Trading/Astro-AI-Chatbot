{
 "cells": [
  {
   "cell_type": "code",
   "execution_count": null,
   "metadata": {},
   "outputs": [],
   "source": [
    "###Largely based on comp data\n",
    "\n",
    "REVENUE_GROWTH_RATE = 0.15\n",
    "\n"
   ]
  },
  {
   "cell_type": "code",
   "execution_count": null,
   "metadata": {},
   "outputs": [],
   "source": [
    "import pandas as pd\n",
    "\n",
    "file_path = '..\\\\Astro-AI-Chatbot\\\\linear_regression\\\\Files_for_Priming_Sector_Comps\\\\AAPL_2022_FY_.xlsx'\n",
    "spreadsheet = pd.ExcelFile(file_path)\n",
    " \n",
    "income_statement_sheet = 'CONSOLIDATED STATEMENTS OF OPER'\n",
    "income_statement_df = pd.read_excel(file_path, sheet_name=income_statement_sheet)\n",
    "\n",
    "revenues = income_statement_df.iloc[2, 1]  # Revenue for 2022\n",
    "loss_from_operations = income_statement_df.iloc[11, 1] * -1  # Loss from operations for 2022, converted to positive\n",
    "\n",
    "OPERATING_MARGIN = (loss_from_operations / revenues) * 100\n",
    "\n",
    "print(f'Operating Margin for 2022: {OPERATING_MARGIN:.2f}%')"
   ]
  },
  {
   "cell_type": "code",
   "execution_count": null,
   "metadata": {},
   "outputs": [],
   "source": [
    "### need to utilize competitor growth to assess\n",
    "\n",
    "TERMINAL_GROWTH_RATE = 0.02\n"
   ]
  },
  {
   "cell_type": "code",
   "execution_count": null,
   "metadata": {},
   "outputs": [],
   "source": [
    "import pandas as pd\n",
    "\n",
    "file_path = '..\\\\Astro-AI-Chatbot\\\\linear_regression\\\\Files_for_Priming_Sector_Comps\\\\AAPL_2022_FY_.xlsx'\n",
    "\n",
    "consolidated_statements_of_oper_df = pd.read_excel(file_path, sheet_name='CONSOLIDATED STATEMENTS OF OPER')\n",
    "\n",
    "num_shares = consolidated_statements_of_oper_df.iloc[31, 1]\n",
    "\n",
    "print(f'Number of shares: {num_shares}')\n",
    "\n",
    "\n"
   ]
  },
  {
   "cell_type": "code",
   "execution_count": null,
   "metadata": {},
   "outputs": [],
   "source": [
    "###WACC Calculation\n",
    "\n",
    "average_waac = ['Technology', 'Healthcare', 'Retail', 'Energy', 'Finance']\n",
    "waac_value = [0.08, 0.065,0.075, 0.07, 0.085, 0.06 ]"
   ]
  }
 ],
 "metadata": {
  "kernelspec": {
   "display_name": "venv",
   "language": "python",
   "name": "python3"
  },
  "language_info": {
   "codemirror_mode": {
    "name": "ipython",
    "version": 3
   },
   "file_extension": ".py",
   "mimetype": "text/x-python",
   "name": "python",
   "nbconvert_exporter": "python",
   "pygments_lexer": "ipython3",
   "version": "3.12.0"
  }
 },
 "nbformat": 4,
 "nbformat_minor": 2
}
